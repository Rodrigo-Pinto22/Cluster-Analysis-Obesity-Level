{
 "cells": [
  {
   "cell_type": "markdown",
   "id": "70ca4e4a",
   "metadata": {},
   "source": [
    "# Cluster Analysis Obesity Level"
   ]
  },
  {
   "cell_type": "markdown",
   "id": "4900624f",
   "metadata": {},
   "source": [
    "### Strategy of the following work is\n",
    "![](<Captura de ecrã 2025-10-16 230247.png>)\n"
   ]
  },
  {
   "cell_type": "code",
   "execution_count": 1,
   "id": "5026cda0",
   "metadata": {},
   "outputs": [
    {
     "data": {
      "application/vnd.microsoft.datawrangler.viewer.v0+json": {
       "columns": [
        {
         "name": "index",
         "rawType": "int64",
         "type": "integer"
        },
        {
         "name": "Sexo",
         "rawType": "object",
         "type": "string"
        },
        {
         "name": "Idade",
         "rawType": "int64",
         "type": "integer"
        },
        {
         "name": "Peso",
         "rawType": "int64",
         "type": "integer"
        },
        {
         "name": "Altura",
         "rawType": "float64",
         "type": "float"
        },
        {
         "name": "Historial_Obesidade",
         "rawType": "int64",
         "type": "integer"
        },
        {
         "name": "Freq_Consumo_Agua",
         "rawType": "int64",
         "type": "integer"
        },
        {
         "name": "Freq_Consumo_Vegetais",
         "rawType": "int64",
         "type": "integer"
        },
        {
         "name": "Freq_Consumo_Comida_Calorica",
         "rawType": "int64",
         "type": "integer"
        }
       ],
       "ref": "377b9d73-dc1b-4bac-add7-141d36777c15",
       "rows": [
        [
         "0",
         "Masculino",
         "22",
         "62",
         "1.72",
         "0",
         "4",
         "4",
         "1"
        ],
        [
         "1",
         "Feminino",
         "25",
         "55",
         "1.65",
         "0",
         "4",
         "4",
         "1"
        ],
        [
         "2",
         "Masculino",
         "28",
         "68",
         "1.75",
         "0",
         "3",
         "3",
         "2"
        ],
        [
         "3",
         "Feminino",
         "31",
         "59",
         "1.63",
         "0",
         "4",
         "4",
         "1"
        ],
        [
         "4",
         "Masculino",
         "35",
         "66",
         "1.7",
         "0",
         "4",
         "4",
         "2"
        ],
        [
         "5",
         "Feminino",
         "40",
         "61",
         "1.68",
         "0",
         "3",
         "4",
         "1"
        ],
        [
         "6",
         "Masculino",
         "45",
         "63",
         "1.74",
         "0",
         "4",
         "4",
         "2"
        ],
        [
         "7",
         "Feminino",
         "50",
         "58",
         "1.64",
         "0",
         "4",
         "4",
         "1"
        ],
        [
         "8",
         "Masculino",
         "55",
         "67",
         "1.73",
         "0",
         "3",
         "3",
         "1"
        ],
        [
         "9",
         "Feminino",
         "60",
         "60",
         "1.66",
         "0",
         "4",
         "4",
         "2"
        ],
        [
         "10",
         "Masculino",
         "23",
         "78",
         "1.74",
         "0",
         "3",
         "3",
         "3"
        ],
        [
         "11",
         "Feminino",
         "27",
         "72",
         "1.69",
         "1",
         "3",
         "2",
         "3"
        ],
        [
         "12",
         "Masculino",
         "32",
         "83",
         "1.8",
         "1",
         "2",
         "2",
         "3"
        ],
        [
         "13",
         "Feminino",
         "37",
         "76",
         "1.7",
         "0",
         "3",
         "3",
         "2"
        ],
        [
         "14",
         "Masculino",
         "42",
         "81",
         "1.75",
         "1",
         "2",
         "2",
         "3"
        ]
       ],
       "shape": {
        "columns": 8,
        "rows": 15
       }
      },
      "text/html": [
       "<div>\n",
       "<style scoped>\n",
       "    .dataframe tbody tr th:only-of-type {\n",
       "        vertical-align: middle;\n",
       "    }\n",
       "\n",
       "    .dataframe tbody tr th {\n",
       "        vertical-align: top;\n",
       "    }\n",
       "\n",
       "    .dataframe thead th {\n",
       "        text-align: right;\n",
       "    }\n",
       "</style>\n",
       "<table border=\"1\" class=\"dataframe\">\n",
       "  <thead>\n",
       "    <tr style=\"text-align: right;\">\n",
       "      <th></th>\n",
       "      <th>Sexo</th>\n",
       "      <th>Idade</th>\n",
       "      <th>Peso</th>\n",
       "      <th>Altura</th>\n",
       "      <th>Historial_Obesidade</th>\n",
       "      <th>Freq_Consumo_Agua</th>\n",
       "      <th>Freq_Consumo_Vegetais</th>\n",
       "      <th>Freq_Consumo_Comida_Calorica</th>\n",
       "    </tr>\n",
       "  </thead>\n",
       "  <tbody>\n",
       "    <tr>\n",
       "      <th>0</th>\n",
       "      <td>Masculino</td>\n",
       "      <td>22</td>\n",
       "      <td>62</td>\n",
       "      <td>1.72</td>\n",
       "      <td>0</td>\n",
       "      <td>4</td>\n",
       "      <td>4</td>\n",
       "      <td>1</td>\n",
       "    </tr>\n",
       "    <tr>\n",
       "      <th>1</th>\n",
       "      <td>Feminino</td>\n",
       "      <td>25</td>\n",
       "      <td>55</td>\n",
       "      <td>1.65</td>\n",
       "      <td>0</td>\n",
       "      <td>4</td>\n",
       "      <td>4</td>\n",
       "      <td>1</td>\n",
       "    </tr>\n",
       "    <tr>\n",
       "      <th>2</th>\n",
       "      <td>Masculino</td>\n",
       "      <td>28</td>\n",
       "      <td>68</td>\n",
       "      <td>1.75</td>\n",
       "      <td>0</td>\n",
       "      <td>3</td>\n",
       "      <td>3</td>\n",
       "      <td>2</td>\n",
       "    </tr>\n",
       "    <tr>\n",
       "      <th>3</th>\n",
       "      <td>Feminino</td>\n",
       "      <td>31</td>\n",
       "      <td>59</td>\n",
       "      <td>1.63</td>\n",
       "      <td>0</td>\n",
       "      <td>4</td>\n",
       "      <td>4</td>\n",
       "      <td>1</td>\n",
       "    </tr>\n",
       "    <tr>\n",
       "      <th>4</th>\n",
       "      <td>Masculino</td>\n",
       "      <td>35</td>\n",
       "      <td>66</td>\n",
       "      <td>1.70</td>\n",
       "      <td>0</td>\n",
       "      <td>4</td>\n",
       "      <td>4</td>\n",
       "      <td>2</td>\n",
       "    </tr>\n",
       "    <tr>\n",
       "      <th>5</th>\n",
       "      <td>Feminino</td>\n",
       "      <td>40</td>\n",
       "      <td>61</td>\n",
       "      <td>1.68</td>\n",
       "      <td>0</td>\n",
       "      <td>3</td>\n",
       "      <td>4</td>\n",
       "      <td>1</td>\n",
       "    </tr>\n",
       "    <tr>\n",
       "      <th>6</th>\n",
       "      <td>Masculino</td>\n",
       "      <td>45</td>\n",
       "      <td>63</td>\n",
       "      <td>1.74</td>\n",
       "      <td>0</td>\n",
       "      <td>4</td>\n",
       "      <td>4</td>\n",
       "      <td>2</td>\n",
       "    </tr>\n",
       "    <tr>\n",
       "      <th>7</th>\n",
       "      <td>Feminino</td>\n",
       "      <td>50</td>\n",
       "      <td>58</td>\n",
       "      <td>1.64</td>\n",
       "      <td>0</td>\n",
       "      <td>4</td>\n",
       "      <td>4</td>\n",
       "      <td>1</td>\n",
       "    </tr>\n",
       "    <tr>\n",
       "      <th>8</th>\n",
       "      <td>Masculino</td>\n",
       "      <td>55</td>\n",
       "      <td>67</td>\n",
       "      <td>1.73</td>\n",
       "      <td>0</td>\n",
       "      <td>3</td>\n",
       "      <td>3</td>\n",
       "      <td>1</td>\n",
       "    </tr>\n",
       "    <tr>\n",
       "      <th>9</th>\n",
       "      <td>Feminino</td>\n",
       "      <td>60</td>\n",
       "      <td>60</td>\n",
       "      <td>1.66</td>\n",
       "      <td>0</td>\n",
       "      <td>4</td>\n",
       "      <td>4</td>\n",
       "      <td>2</td>\n",
       "    </tr>\n",
       "    <tr>\n",
       "      <th>10</th>\n",
       "      <td>Masculino</td>\n",
       "      <td>23</td>\n",
       "      <td>78</td>\n",
       "      <td>1.74</td>\n",
       "      <td>0</td>\n",
       "      <td>3</td>\n",
       "      <td>3</td>\n",
       "      <td>3</td>\n",
       "    </tr>\n",
       "    <tr>\n",
       "      <th>11</th>\n",
       "      <td>Feminino</td>\n",
       "      <td>27</td>\n",
       "      <td>72</td>\n",
       "      <td>1.69</td>\n",
       "      <td>1</td>\n",
       "      <td>3</td>\n",
       "      <td>2</td>\n",
       "      <td>3</td>\n",
       "    </tr>\n",
       "    <tr>\n",
       "      <th>12</th>\n",
       "      <td>Masculino</td>\n",
       "      <td>32</td>\n",
       "      <td>83</td>\n",
       "      <td>1.80</td>\n",
       "      <td>1</td>\n",
       "      <td>2</td>\n",
       "      <td>2</td>\n",
       "      <td>3</td>\n",
       "    </tr>\n",
       "    <tr>\n",
       "      <th>13</th>\n",
       "      <td>Feminino</td>\n",
       "      <td>37</td>\n",
       "      <td>76</td>\n",
       "      <td>1.70</td>\n",
       "      <td>0</td>\n",
       "      <td>3</td>\n",
       "      <td>3</td>\n",
       "      <td>2</td>\n",
       "    </tr>\n",
       "    <tr>\n",
       "      <th>14</th>\n",
       "      <td>Masculino</td>\n",
       "      <td>42</td>\n",
       "      <td>81</td>\n",
       "      <td>1.75</td>\n",
       "      <td>1</td>\n",
       "      <td>2</td>\n",
       "      <td>2</td>\n",
       "      <td>3</td>\n",
       "    </tr>\n",
       "  </tbody>\n",
       "</table>\n",
       "</div>"
      ],
      "text/plain": [
       "         Sexo  Idade  Peso  Altura  Historial_Obesidade  Freq_Consumo_Agua  \\\n",
       "0   Masculino     22    62    1.72                    0                  4   \n",
       "1    Feminino     25    55    1.65                    0                  4   \n",
       "2   Masculino     28    68    1.75                    0                  3   \n",
       "3    Feminino     31    59    1.63                    0                  4   \n",
       "4   Masculino     35    66    1.70                    0                  4   \n",
       "5    Feminino     40    61    1.68                    0                  3   \n",
       "6   Masculino     45    63    1.74                    0                  4   \n",
       "7    Feminino     50    58    1.64                    0                  4   \n",
       "8   Masculino     55    67    1.73                    0                  3   \n",
       "9    Feminino     60    60    1.66                    0                  4   \n",
       "10  Masculino     23    78    1.74                    0                  3   \n",
       "11   Feminino     27    72    1.69                    1                  3   \n",
       "12  Masculino     32    83    1.80                    1                  2   \n",
       "13   Feminino     37    76    1.70                    0                  3   \n",
       "14  Masculino     42    81    1.75                    1                  2   \n",
       "\n",
       "    Freq_Consumo_Vegetais  Freq_Consumo_Comida_Calorica  \n",
       "0                       4                             1  \n",
       "1                       4                             1  \n",
       "2                       3                             2  \n",
       "3                       4                             1  \n",
       "4                       4                             2  \n",
       "5                       4                             1  \n",
       "6                       4                             2  \n",
       "7                       4                             1  \n",
       "8                       3                             1  \n",
       "9                       4                             2  \n",
       "10                      3                             3  \n",
       "11                      2                             3  \n",
       "12                      2                             3  \n",
       "13                      3                             2  \n",
       "14                      2                             3  "
      ]
     },
     "execution_count": 1,
     "metadata": {},
     "output_type": "execute_result"
    }
   ],
   "source": [
    "import pandas as pd\n",
    "# ==========================\n",
    "# DADOS SIMULADOS MANUAIS\n",
    "# ==========================\n",
    "\n",
    "sexo = [\n",
    "    \"Masculino\", \"Feminino\", \"Masculino\", \"Feminino\", \"Masculino\",\n",
    "    \"Feminino\", \"Masculino\", \"Feminino\", \"Masculino\", \"Feminino\",\n",
    "    \"Masculino\", \"Feminino\", \"Masculino\", \"Feminino\", \"Masculino\",\n",
    "    \"Feminino\", \"Masculino\", \"Feminino\", \"Masculino\", \"Feminino\",\n",
    "    \"Masculino\", \"Feminino\", \"Masculino\", \"Feminino\", \"Masculino\",\n",
    "    \"Feminino\", \"Masculino\", \"Feminino\", \"Masculino\", \"Feminino\"\n",
    "]\n",
    "\n",
    "idade = [\n",
    "    22, 25, 28, 31, 35,\n",
    "    40, 45, 50, 55, 60,\n",
    "    23, 27, 32, 37, 42,\n",
    "    47, 52, 57, 62, 30,\n",
    "    34, 38, 43, 48, 53,\n",
    "    58, 24, 29, 33, 36\n",
    "]\n",
    "\n",
    "# ============================================================\n",
    "# PESO E ALTURA AJUSTADOS PARA SIMULAR GRUPOS DISTINTOS\n",
    "# ============================================================\n",
    "\n",
    "peso = [\n",
    "    # Grupo 1 (saudáveis)\n",
    "    62, 55, 68, 59, 66,\n",
    "    61, 63, 58, 67, 60,\n",
    "    # Grupo 2 (sobrepeso)\n",
    "    78, 72, 83, 76, 81,\n",
    "    79, 85, 74, 88, 80,\n",
    "    # Grupo 3 (obesos)\n",
    "    98, 105, 95, 110, 102,\n",
    "    115, 131, 108, 108, 112\n",
    "]\n",
    "\n",
    "altura = [\n",
    "    # Grupo 1 (saudáveis)\n",
    "    1.72, 1.65, 1.75, 1.63, 1.70,\n",
    "    1.68, 1.74, 1.64, 1.73, 1.66,\n",
    "    # Grupo 2 (sobrepeso)\n",
    "    1.74, 1.69, 1.80, 1.70, 1.75,\n",
    "    1.78, 1.76, 1.71, 1.79, 1.74,\n",
    "    # Grupo 3 (obesos)\n",
    "    1.70, 1.68, 1.72, 1.65, 1.74,\n",
    "    1.73, 1.75, 1.69, 1.70, 1.72\n",
    "]\n",
    "\n",
    "# ============================================================\n",
    "# HISTORIAL DE OBESIDADE (1=Sim, 0=Não)\n",
    "# ============================================================\n",
    "\n",
    "historial_obesidade = [\n",
    "    # Saudáveis\n",
    "    0, 0, 0, 0, 0,\n",
    "    0, 0, 0, 0, 0,\n",
    "    # Sobrepeso\n",
    "    0, 1, 1, 0, 1,\n",
    "    1, 1, 1, 0, 1,\n",
    "    # Obesos\n",
    "    1, 1, 1, 1, 1,\n",
    "    1, 1, 1, 1, 1\n",
    "]\n",
    "\n",
    "# ============================================================\n",
    "# FREQUÊNCIAS (escala 1–4: 1=baixo, 4=alto)\n",
    "# ============================================================\n",
    "\n",
    "freq_agua = [\n",
    "    # Saudáveis (bebem muita água)\n",
    "    4, 4, 3, 4, 4,\n",
    "    3, 4, 4, 3, 4,\n",
    "    # Sobrepeso (moderado)\n",
    "    3, 3, 2, 3, 2,\n",
    "    3, 2, 3, 2, 2,\n",
    "    # Obesos (pouca água)\n",
    "    1, 1, 2, 1, 1,\n",
    "    1, 2, 1, 1, 1\n",
    "]\n",
    "\n",
    "freq_vegetais = [\n",
    "    # Saudáveis (alto consumo)\n",
    "    4, 4, 3, 4, 4,\n",
    "    4, 4, 4, 3, 4,\n",
    "    # Sobrepeso (médio)\n",
    "    3, 2, 2, 3, 2,\n",
    "    2, 3, 2, 3, 2,\n",
    "    # Obesos (baixo)\n",
    "    1, 1, 2, 1, 1,\n",
    "    1, 2, 1, 1, 1\n",
    "]\n",
    "\n",
    "freq_calorica = [\n",
    "    # Saudáveis (baixo consumo)\n",
    "    1, 1, 2, 1, 2,\n",
    "    1, 2, 1, 1, 2,\n",
    "    # Sobrepeso (moderado)\n",
    "    3, 3, 3, 2, 3,\n",
    "    3, 2, 3, 3, 2,\n",
    "    # Obesos (elevado consumo)\n",
    "    4, 4, 3, 4, 4,\n",
    "    4, 4, 4, 4, 3\n",
    "]\n",
    "\n",
    "# ============================================================\n",
    "# CRIAÇÃO DO DATAFRAME\n",
    "# ============================================================\n",
    "\n",
    "dados_simulados = pd.DataFrame({\n",
    "    \"Sexo\": sexo,\n",
    "    \"Idade\": idade,\n",
    "    \"Peso\": peso,\n",
    "    \"Altura\": altura,\n",
    "    \"Historial_Obesidade\": historial_obesidade,\n",
    "    \"Freq_Consumo_Agua\": freq_agua,\n",
    "    \"Freq_Consumo_Vegetais\": freq_vegetais,\n",
    "    \"Freq_Consumo_Comida_Calorica\": freq_calorica\n",
    "})\n",
    "\n",
    "dados_simulados.head(15)\n"
   ]
  },
  {
   "cell_type": "code",
   "execution_count": 2,
   "id": "57a4b54f",
   "metadata": {},
   "outputs": [],
   "source": [
    "from scipy.cluster.hierarchy import dendrogram, linkage\n",
    "from scipy.spatial.distance import pdist\n",
    "import matplotlib.pyplot as plt\n",
    "\n",
    "# Selecionar apenas as variáveis numéricas\n",
    "X = dados_simulados[[\n",
    "    \"Idade\", \"Peso\", \"Altura\",\n",
    "    \"Historial_Obesidade\",\n",
    "    \"Freq_Consumo_Agua\",\n",
    "    \"Freq_Consumo_Vegetais\",\n",
    "    \"Freq_Consumo_Comida_Calorica\"\n",
    "]]\n"
   ]
  },
  {
   "cell_type": "code",
   "execution_count": 3,
   "id": "52efa966",
   "metadata": {},
   "outputs": [],
   "source": [
    "from sklearn.preprocessing import StandardScaler\n",
    "\n",
    "scaler = StandardScaler()      #Normalizar os dados para não enviesar\n",
    "X_scaled = scaler.fit_transform(X)\n"
   ]
  },
  {
   "cell_type": "markdown",
   "id": "74c611c5",
   "metadata": {},
   "source": [
    "### Tipo de Linkage e Métrica"
   ]
  },
  {
   "cell_type": "code",
   "execution_count": 4,
   "id": "a339f1d7",
   "metadata": {},
   "outputs": [],
   "source": [
    "Z = linkage(X_scaled, method='complete', metric='euclidean')"
   ]
  },
  {
   "cell_type": "code",
   "execution_count": 5,
   "id": "9c5c50d6",
   "metadata": {},
   "outputs": [
    {
     "data": {
      "image/png": "[encoded data removed]",
      "text/plain": [
       "<Figure size 1200x600 with 1 Axes>"
      ]
     },
     "metadata": {},
     "output_type": "display_data"
    }
   ],
   "source": [
    "plt.figure(figsize=(12, 6))\n",
    "plt.title(\"Dendrograma - Método Complete Linkage (Distância Euclidiana)\")\n",
    "plt.xlabel(\"Indivíduos\")\n",
    "plt.ylabel(\"Distância\")\n",
    "\n",
    "dendrogram(Z, leaf_rotation=90, leaf_font_size=10)\n",
    "plt.show()\n"
   ]
  },
  {
   "cell_type": "code",
   "execution_count": 6,
   "id": "ca98f473",
   "metadata": {},
   "outputs": [
    {
     "data": {
      "application/vnd.microsoft.datawrangler.viewer.v0+json": {
       "columns": [
        {
         "name": "index",
         "rawType": "int64",
         "type": "integer"
        },
        {
         "name": "Sexo",
         "rawType": "object",
         "type": "string"
        },
        {
         "name": "Idade",
         "rawType": "int64",
         "type": "integer"
        },
        {
         "name": "Peso",
         "rawType": "int64",
         "type": "integer"
        },
        {
         "name": "Altura",
         "rawType": "float64",
         "type": "float"
        },
        {
         "name": "Historial_Obesidade",
         "rawType": "int64",
         "type": "integer"
        },
        {
         "name": "Freq_Consumo_Agua",
         "rawType": "int64",
         "type": "integer"
        },
        {
         "name": "Freq_Consumo_Vegetais",
         "rawType": "int64",
         "type": "integer"
        },
        {
         "name": "Freq_Consumo_Comida_Calorica",
         "rawType": "int64",
         "type": "integer"
        },
        {
         "name": "Cluster_Hierarquico",
         "rawType": "int32",
         "type": "integer"
        }
       ],
       "ref": "58b440c6-05bc-4919-be74-ab5ec3e65669",
       "rows": [
        [
         "0",
         "Masculino",
         "22",
         "62",
         "1.72",
         "0",
         "4",
         "4",
         "1",
         "1"
        ],
        [
         "1",
         "Feminino",
         "25",
         "55",
         "1.65",
         "0",
         "4",
         "4",
         "1",
         "1"
        ],
        [
         "2",
         "Masculino",
         "28",
         "68",
         "1.75",
         "0",
         "3",
         "3",
         "2",
         "3"
        ],
        [
         "3",
         "Feminino",
         "31",
         "59",
         "1.63",
         "0",
         "4",
         "4",
         "1",
         "1"
        ],
        [
         "4",
         "Masculino",
         "35",
         "66",
         "1.7",
         "0",
         "4",
         "4",
         "2",
         "1"
        ],
        [
         "5",
         "Feminino",
         "40",
         "61",
         "1.68",
         "0",
         "3",
         "4",
         "1",
         "1"
        ],
        [
         "6",
         "Masculino",
         "45",
         "63",
         "1.74",
         "0",
         "4",
         "4",
         "2",
         "1"
        ],
        [
         "7",
         "Feminino",
         "50",
         "58",
         "1.64",
         "0",
         "4",
         "4",
         "1",
         "1"
        ],
        [
         "8",
         "Masculino",
         "55",
         "67",
         "1.73",
         "0",
         "3",
         "3",
         "1",
         "1"
        ],
        [
         "9",
         "Feminino",
         "60",
         "60",
         "1.66",
         "0",
         "4",
         "4",
         "2",
         "1"
        ]
       ],
       "shape": {
        "columns": 9,
        "rows": 10
       }
      },
      "text/html": [
       "<div>\n",
       "<style scoped>\n",
       "    .dataframe tbody tr th:only-of-type {\n",
       "        vertical-align: middle;\n",
       "    }\n",
       "\n",
       "    .dataframe tbody tr th {\n",
       "        vertical-align: top;\n",
       "    }\n",
       "\n",
       "    .dataframe thead th {\n",
       "        text-align: right;\n",
       "    }\n",
       "</style>\n",
       "<table border=\"1\" class=\"dataframe\">\n",
       "  <thead>\n",
       "    <tr style=\"text-align: right;\">\n",
       "      <th></th>\n",
       "      <th>Sexo</th>\n",
       "      <th>Idade</th>\n",
       "      <th>Peso</th>\n",
       "      <th>Altura</th>\n",
       "      <th>Historial_Obesidade</th>\n",
       "      <th>Freq_Consumo_Agua</th>\n",
       "      <th>Freq_Consumo_Vegetais</th>\n",
       "      <th>Freq_Consumo_Comida_Calorica</th>\n",
       "      <th>Cluster_Hierarquico</th>\n",
       "    </tr>\n",
       "  </thead>\n",
       "  <tbody>\n",
       "    <tr>\n",
       "      <th>0</th>\n",
       "      <td>Masculino</td>\n",
       "      <td>22</td>\n",
       "      <td>62</td>\n",
       "      <td>1.72</td>\n",
       "      <td>0</td>\n",
       "      <td>4</td>\n",
       "      <td>4</td>\n",
       "      <td>1</td>\n",
       "      <td>1</td>\n",
       "    </tr>\n",
       "    <tr>\n",
       "      <th>1</th>\n",
       "      <td>Feminino</td>\n",
       "      <td>25</td>\n",
       "      <td>55</td>\n",
       "      <td>1.65</td>\n",
       "      <td>0</td>\n",
       "      <td>4</td>\n",
       "      <td>4</td>\n",
       "      <td>1</td>\n",
       "      <td>1</td>\n",
       "    </tr>\n",
       "    <tr>\n",
       "      <th>2</th>\n",
       "      <td>Masculino</td>\n",
       "      <td>28</td>\n",
       "      <td>68</td>\n",
       "      <td>1.75</td>\n",
       "      <td>0</td>\n",
       "      <td>3</td>\n",
       "      <td>3</td>\n",
       "      <td>2</td>\n",
       "      <td>3</td>\n",
       "    </tr>\n",
       "    <tr>\n",
       "      <th>3</th>\n",
       "      <td>Feminino</td>\n",
       "      <td>31</td>\n",
       "      <td>59</td>\n",
       "      <td>1.63</td>\n",
       "      <td>0</td>\n",
       "      <td>4</td>\n",
       "      <td>4</td>\n",
       "      <td>1</td>\n",
       "      <td>1</td>\n",
       "    </tr>\n",
       "    <tr>\n",
       "      <th>4</th>\n",
       "      <td>Masculino</td>\n",
       "      <td>35</td>\n",
       "      <td>66</td>\n",
       "      <td>1.70</td>\n",
       "      <td>0</td>\n",
       "      <td>4</td>\n",
       "      <td>4</td>\n",
       "      <td>2</td>\n",
       "      <td>1</td>\n",
       "    </tr>\n",
       "    <tr>\n",
       "      <th>5</th>\n",
       "      <td>Feminino</td>\n",
       "      <td>40</td>\n",
       "      <td>61</td>\n",
       "      <td>1.68</td>\n",
       "      <td>0</td>\n",
       "      <td>3</td>\n",
       "      <td>4</td>\n",
       "      <td>1</td>\n",
       "      <td>1</td>\n",
       "    </tr>\n",
       "    <tr>\n",
       "      <th>6</th>\n",
       "      <td>Masculino</td>\n",
       "      <td>45</td>\n",
       "      <td>63</td>\n",
       "      <td>1.74</td>\n",
       "      <td>0</td>\n",
       "      <td>4</td>\n",
       "      <td>4</td>\n",
       "      <td>2</td>\n",
       "      <td>1</td>\n",
       "    </tr>\n",
       "    <tr>\n",
       "      <th>7</th>\n",
       "      <td>Feminino</td>\n",
       "      <td>50</td>\n",
       "      <td>58</td>\n",
       "      <td>1.64</td>\n",
       "      <td>0</td>\n",
       "      <td>4</td>\n",
       "      <td>4</td>\n",
       "      <td>1</td>\n",
       "      <td>1</td>\n",
       "    </tr>\n",
       "    <tr>\n",
       "      <th>8</th>\n",
       "      <td>Masculino</td>\n",
       "      <td>55</td>\n",
       "      <td>67</td>\n",
       "      <td>1.73</td>\n",
       "      <td>0</td>\n",
       "      <td>3</td>\n",
       "      <td>3</td>\n",
       "      <td>1</td>\n",
       "      <td>1</td>\n",
       "    </tr>\n",
       "    <tr>\n",
       "      <th>9</th>\n",
       "      <td>Feminino</td>\n",
       "      <td>60</td>\n",
       "      <td>60</td>\n",
       "      <td>1.66</td>\n",
       "      <td>0</td>\n",
       "      <td>4</td>\n",
       "      <td>4</td>\n",
       "      <td>2</td>\n",
       "      <td>1</td>\n",
       "    </tr>\n",
       "  </tbody>\n",
       "</table>\n",
       "</div>"
      ],
      "text/plain": [
       "        Sexo  Idade  Peso  Altura  Historial_Obesidade  Freq_Consumo_Agua  \\\n",
       "0  Masculino     22    62    1.72                    0                  4   \n",
       "1   Feminino     25    55    1.65                    0                  4   \n",
       "2  Masculino     28    68    1.75                    0                  3   \n",
       "3   Feminino     31    59    1.63                    0                  4   \n",
       "4  Masculino     35    66    1.70                    0                  4   \n",
       "5   Feminino     40    61    1.68                    0                  3   \n",
       "6  Masculino     45    63    1.74                    0                  4   \n",
       "7   Feminino     50    58    1.64                    0                  4   \n",
       "8  Masculino     55    67    1.73                    0                  3   \n",
       "9   Feminino     60    60    1.66                    0                  4   \n",
       "\n",
       "   Freq_Consumo_Vegetais  Freq_Consumo_Comida_Calorica  Cluster_Hierarquico  \n",
       "0                      4                             1                    1  \n",
       "1                      4                             1                    1  \n",
       "2                      3                             2                    3  \n",
       "3                      4                             1                    1  \n",
       "4                      4                             2                    1  \n",
       "5                      4                             1                    1  \n",
       "6                      4                             2                    1  \n",
       "7                      4                             1                    1  \n",
       "8                      3                             1                    1  \n",
       "9                      4                             2                    1  "
      ]
     },
     "execution_count": 6,
     "metadata": {},
     "output_type": "execute_result"
    }
   ],
   "source": [
    "from scipy.cluster.hierarchy import fcluster\n",
    "\n",
    "clusters = fcluster(Z, t=3, criterion='maxclust')\n",
    "dados_simulados[\"Cluster_Hierarquico\"] = clusters\n",
    "\n",
    "dados_simulados.head(10)\n"
   ]
  },
  {
   "cell_type": "code",
   "execution_count": 7,
   "id": "c46600b4",
   "metadata": {},
   "outputs": [
    {
     "data": {
      "application/vnd.microsoft.datawrangler.viewer.v0+json": {
       "columns": [
        {
         "name": "Cluster_Hierarquico",
         "rawType": "int32",
         "type": "integer"
        },
        {
         "name": "Peso",
         "rawType": "float64",
         "type": "float"
        },
        {
         "name": "Freq_Consumo_Vegetais",
         "rawType": "float64",
         "type": "float"
        },
        {
         "name": "Freq_Consumo_Comida_Calorica",
         "rawType": "float64",
         "type": "float"
        }
       ],
       "ref": "c1e65dda-53c0-454e-9775-2a71eeb3611e",
       "rows": [
        [
         "1",
         "62.7",
         "3.8",
         "1.4"
        ],
        [
         "2",
         "109.88888888888889",
         "1.1111111111111112",
         "3.888888888888889"
        ],
        [
         "3",
         "80.27272727272727",
         "2.3636363636363638",
         "2.727272727272727"
        ]
       ],
       "shape": {
        "columns": 3,
        "rows": 3
       }
      },
      "text/html": [
       "<div>\n",
       "<style scoped>\n",
       "    .dataframe tbody tr th:only-of-type {\n",
       "        vertical-align: middle;\n",
       "    }\n",
       "\n",
       "    .dataframe tbody tr th {\n",
       "        vertical-align: top;\n",
       "    }\n",
       "\n",
       "    .dataframe thead th {\n",
       "        text-align: right;\n",
       "    }\n",
       "</style>\n",
       "<table border=\"1\" class=\"dataframe\">\n",
       "  <thead>\n",
       "    <tr style=\"text-align: right;\">\n",
       "      <th></th>\n",
       "      <th>Peso</th>\n",
       "      <th>Freq_Consumo_Vegetais</th>\n",
       "      <th>Freq_Consumo_Comida_Calorica</th>\n",
       "    </tr>\n",
       "    <tr>\n",
       "      <th>Cluster_Hierarquico</th>\n",
       "      <th></th>\n",
       "      <th></th>\n",
       "      <th></th>\n",
       "    </tr>\n",
       "  </thead>\n",
       "  <tbody>\n",
       "    <tr>\n",
       "      <th>1</th>\n",
       "      <td>62.700000</td>\n",
       "      <td>3.800000</td>\n",
       "      <td>1.400000</td>\n",
       "    </tr>\n",
       "    <tr>\n",
       "      <th>2</th>\n",
       "      <td>109.888889</td>\n",
       "      <td>1.111111</td>\n",
       "      <td>3.888889</td>\n",
       "    </tr>\n",
       "    <tr>\n",
       "      <th>3</th>\n",
       "      <td>80.272727</td>\n",
       "      <td>2.363636</td>\n",
       "      <td>2.727273</td>\n",
       "    </tr>\n",
       "  </tbody>\n",
       "</table>\n",
       "</div>"
      ],
      "text/plain": [
       "                           Peso  Freq_Consumo_Vegetais  \\\n",
       "Cluster_Hierarquico                                      \n",
       "1                     62.700000               3.800000   \n",
       "2                    109.888889               1.111111   \n",
       "3                     80.272727               2.363636   \n",
       "\n",
       "                     Freq_Consumo_Comida_Calorica  \n",
       "Cluster_Hierarquico                                \n",
       "1                                        1.400000  \n",
       "2                                        3.888889  \n",
       "3                                        2.727273  "
      ]
     },
     "execution_count": 7,
     "metadata": {},
     "output_type": "execute_result"
    }
   ],
   "source": [
    "dados_simulados.groupby(\"Cluster_Hierarquico\")[[\"Peso\", \"Freq_Consumo_Vegetais\", \"Freq_Consumo_Comida_Calorica\"]].mean()\n"
   ]
  },
  {
   "cell_type": "code",
   "execution_count": 8,
   "id": "18d52dc1",
   "metadata": {},
   "outputs": [],
   "source": [
    "# Labels reais (baseados nos grupos simulados)\n",
    "labels_reais = [0]*10 + [1]*10 + [2]*10\n"
   ]
  },
  {
   "cell_type": "code",
   "execution_count": 9,
   "id": "74c7616d",
   "metadata": {},
   "outputs": [
    {
     "data": {
      "image/png": "[encoded data removed]",
      "text/plain": [
       "<Figure size 640x480 with 1 Axes>"
      ]
     },
     "metadata": {},
     "output_type": "display_data"
    },
    {
     "name": "stdout",
     "output_type": "stream",
     "text": [
      "➡️ Número inicial de clusters sugerido: 2 (Silhouette = 0.393)\n"
     ]
    }
   ],
   "source": [
    "from sklearn.metrics import silhouette_score\n",
    "from scipy.cluster.hierarchy import linkage, fcluster\n",
    "import matplotlib.pyplot as plt\n",
    "\n",
    "# Distância e método de ligação\n",
    "Z = linkage(X_scaled, method='complete', metric='euclidean')\n",
    "\n",
    "# Testar diferentes números de clusters\n",
    "sil_scores = []\n",
    "k_values = range(2, 10)\n",
    "\n",
    "for k in k_values:\n",
    "    clusters = fcluster(Z, t=k, criterion='maxclust')\n",
    "    score = silhouette_score(X_scaled, clusters)\n",
    "    sil_scores.append(score)\n",
    "\n",
    "# Gráfico Silhouette vs Nº de Clusters\n",
    "plt.plot(k_values, sil_scores, 'bo-')\n",
    "plt.xlabel(\"Número de Clusters (k)\")\n",
    "plt.ylabel(\"Silhouette Score\")\n",
    "plt.title(\"Avaliação Silhouette para diferentes k (Hierárquico)\")\n",
    "plt.show()\n",
    "\n",
    "# Melhor valor\n",
    "k_otimo = k_values[sil_scores.index(max(sil_scores))]\n",
    "print(f\"➡️ Número inicial de clusters sugerido: {k_otimo} (Silhouette = {max(sil_scores):.3f})\")\n"
   ]
  },
  {
   "cell_type": "code",
   "execution_count": 27,
   "id": "de5de6ba",
   "metadata": {},
   "outputs": [
    {
     "name": "stdout",
     "output_type": "stream",
     "text": [
      "Adjusted Rand Index (ARI) = 0.705\n"
     ]
    }
   ],
   "source": [
    "from sklearn.metrics import adjusted_rand_score\n",
    "\n",
    "# Clusters obtidos com o número ótimo\n",
    "clusters_hier = fcluster(Z, t=3, criterion='maxclust')\n",
    "\n",
    "# Cálculo do ARI\n",
    "ari = adjusted_rand_score(labels_reais, clusters_hier)\n",
    "print(f\"Adjusted Rand Index (ARI) = {ari:.3f}\")\n"
   ]
  },
  {
   "cell_type": "code",
   "execution_count": 28,
   "id": "2ab82ef6",
   "metadata": {},
   "outputs": [
    {
     "data": {
      "application/vnd.microsoft.datawrangler.viewer.v0+json": {
       "columns": [
        {
         "name": "Grupo_Real",
         "rawType": "int64",
         "type": "integer"
        },
        {
         "name": "1",
         "rawType": "int64",
         "type": "integer"
        },
        {
         "name": "2",
         "rawType": "int64",
         "type": "integer"
        },
        {
         "name": "3",
         "rawType": "int64",
         "type": "integer"
        }
       ],
       "ref": "2c0dff40-5508-4398-9d65-462cc57dae73",
       "rows": [
        [
         "0",
         "9",
         "0",
         "1"
        ],
        [
         "1",
         "1",
         "0",
         "9"
        ],
        [
         "2",
         "0",
         "9",
         "1"
        ]
       ],
       "shape": {
        "columns": 3,
        "rows": 3
       }
      },
      "text/html": [
       "<div>\n",
       "<style scoped>\n",
       "    .dataframe tbody tr th:only-of-type {\n",
       "        vertical-align: middle;\n",
       "    }\n",
       "\n",
       "    .dataframe tbody tr th {\n",
       "        vertical-align: top;\n",
       "    }\n",
       "\n",
       "    .dataframe thead th {\n",
       "        text-align: right;\n",
       "    }\n",
       "</style>\n",
       "<table border=\"1\" class=\"dataframe\">\n",
       "  <thead>\n",
       "    <tr style=\"text-align: right;\">\n",
       "      <th>Cluster_Hierarquico</th>\n",
       "      <th>1</th>\n",
       "      <th>2</th>\n",
       "      <th>3</th>\n",
       "    </tr>\n",
       "    <tr>\n",
       "      <th>Grupo_Real</th>\n",
       "      <th></th>\n",
       "      <th></th>\n",
       "      <th></th>\n",
       "    </tr>\n",
       "  </thead>\n",
       "  <tbody>\n",
       "    <tr>\n",
       "      <th>0</th>\n",
       "      <td>9</td>\n",
       "      <td>0</td>\n",
       "      <td>1</td>\n",
       "    </tr>\n",
       "    <tr>\n",
       "      <th>1</th>\n",
       "      <td>1</td>\n",
       "      <td>0</td>\n",
       "      <td>9</td>\n",
       "    </tr>\n",
       "    <tr>\n",
       "      <th>2</th>\n",
       "      <td>0</td>\n",
       "      <td>9</td>\n",
       "      <td>1</td>\n",
       "    </tr>\n",
       "  </tbody>\n",
       "</table>\n",
       "</div>"
      ],
      "text/plain": [
       "Cluster_Hierarquico  1  2  3\n",
       "Grupo_Real                  \n",
       "0                    9  0  1\n",
       "1                    1  0  9\n",
       "2                    0  9  1"
      ]
     },
     "execution_count": 28,
     "metadata": {},
     "output_type": "execute_result"
    }
   ],
   "source": [
    "dados_simulados[\"Cluster_Hierarquico\"] = clusters_hier\n",
    "dados_simulados[\"Grupo_Real\"] = labels_reais\n",
    "\n",
    "pd.crosstab(dados_simulados[\"Grupo_Real\"], dados_simulados[\"Cluster_Hierarquico\"])\n"
   ]
  },
  {
   "cell_type": "code",
   "execution_count": 29,
   "id": "9d0d8b1e",
   "metadata": {},
   "outputs": [
    {
     "name": "stdout",
     "output_type": "stream",
     "text": [
      "Centroides dos clusters hierárquicos:\n",
      "                            Peso    Altura\n",
      "Cluster_Hierarquico                      \n",
      "1                     62.700000  1.685000\n",
      "2                    109.888889  1.706667\n",
      "3                     80.272727  1.748182\n",
      "\n",
      "Centroides dos grupos reais:\n",
      "              Peso  Altura\n",
      "Grupo_Real               \n",
      "0            61.9   1.690\n",
      "1            79.6   1.746\n",
      "2           108.4   1.708\n"
     ]
    }
   ],
   "source": [
    "# Calcular centróides dos clusters calculados\n",
    "centroides_calc = dados_simulados.groupby(\"Cluster_Hierarquico\")[[\"Peso\", \"Altura\"]].mean()\n",
    "\n",
    "# Calcular centróides dos grupos reais\n",
    "centroides_reais = dados_simulados.groupby(\"Grupo_Real\")[[\"Peso\", \"Altura\"]].mean()\n",
    "\n",
    "print(\"Centroides dos clusters hierárquicos:\\n\", centroides_calc)\n",
    "print(\"\\nCentroides dos grupos reais:\\n\", centroides_reais)"
   ]
  },
  {
   "cell_type": "code",
   "execution_count": 30,
   "id": "2d994958",
   "metadata": {},
   "outputs": [
    {
     "data": {
      "image/png": "[encoded data removed]",
      "text/plain": [
       "<Figure size 800x600 with 2 Axes>"
      ]
     },
     "metadata": {},
     "output_type": "display_data"
    }
   ],
   "source": [
    "plt.figure(figsize=(8, 6))\n",
    "\n",
    "# Gráfico de dispersão com cor baseada no cluster encontrado\n",
    "plt.scatter(\n",
    "    dados_simulados[\"Peso\"],\n",
    "    dados_simulados[\"Altura\"],\n",
    "    c=dados_simulados[\"Cluster_Hierarquico\"],\n",
    "    cmap=\"viridis\",\n",
    "    s=100,\n",
    "    edgecolor=\"k\"\n",
    ")\n",
    "\n",
    "# Centrões dos clusters\n",
    "plt.scatter(\n",
    "    centroides_calc[\"Peso\"],\n",
    "    centroides_calc[\"Altura\"],\n",
    "    c=\"red\",\n",
    "    s=250,\n",
    "    marker=\"X\",\n",
    "    label=\"Centróide (Cluster Calculado)\",\n",
    "    edgecolor=\"k\"\n",
    ")\n",
    "\n",
    "plt.title(\"Distribuição dos Indivíduos - Clusters Hierárquicos\")\n",
    "plt.xlabel(\"Peso (kg)\")\n",
    "plt.ylabel(\"Altura (m)\")\n",
    "plt.colorbar(label=\"Cluster Hierárquico\")\n",
    "plt.grid(True)\n",
    "plt.show()\n"
   ]
  },
  {
   "cell_type": "code",
   "execution_count": 26,
   "id": "24b683c7",
   "metadata": {},
   "outputs": [
    {
     "data": {
      "image/png": "[encoded data removed]",
      "text/plain": [
       "<Figure size 800x600 with 2 Axes>"
      ]
     },
     "metadata": {},
     "output_type": "display_data"
    }
   ],
   "source": [
    "plt.figure(figsize=(8, 6))\n",
    "\n",
    "plt.scatter(\n",
    "    dados_simulados[\"Peso\"],\n",
    "    dados_simulados[\"Altura\"],\n",
    "    c=dados_simulados[\"Grupo_Real\"],\n",
    "    cmap=\"coolwarm\",\n",
    "    s=100,\n",
    "    edgecolor=\"k\"\n",
    ")\n",
    "\n",
    "# Centrões dos grupos reais\n",
    "plt.scatter(\n",
    "    centroides_reais[\"Peso\"],\n",
    "    centroides_reais[\"Altura\"],\n",
    "    c=\"black\",\n",
    "    s=250,\n",
    "    marker=\"X\",\n",
    "    label=\"Centróide (Grupo Real)\",\n",
    "    edgecolor=\"white\"\n",
    ")\n",
    "\n",
    "plt.title(\"Distribuição dos Grupos Reais Simulados\")\n",
    "plt.xlabel(\"Peso (kg)\")\n",
    "plt.ylabel(\"Altura (m)\")\n",
    "plt.colorbar(label=\"Grupo Real (0=Saudável, 1=Sobrepeso, 2=Obeso)\")\n",
    "plt.grid(True)\n",
    "plt.show()\n"
   ]
  },
  {
   "cell_type": "code",
   "execution_count": null,
   "id": "6640827e",
   "metadata": {},
   "outputs": [],
   "source": []
  }
 ],
 "metadata": {
  "kernelspec": {
   "display_name": "FCD",
   "language": "python",
   "name": "python3"
  },
  "language_info": {
   "codemirror_mode": {
    "name": "ipython",
    "version": 3
   },
   "file_extension": ".py",
   "mimetype": "text/x-python",
   "name": "python",
   "nbconvert_exporter": "python",
   "pygments_lexer": "ipython3",
   "version": "3.12.7"
  }
 },
 "nbformat": 4,
 "nbformat_minor": 5
}
